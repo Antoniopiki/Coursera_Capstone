{
 "cells": [
  {
   "cell_type": "markdown",
   "id": "5863fe45",
   "metadata": {},
   "source": [
    "# **Introduction of the Business Problem**"
   ]
  },
  {
   "cell_type": "markdown",
   "id": "3d4ce388",
   "metadata": {},
   "source": [
    "The National Basketball Association is one of the major sports leagues in The United States of America, and thus, it generates large amounts of money every year. The teams that compose the NBA are constantly looking for new sources of information, specifically statistical data, that can help them evaluate and improve performance. New technologies and methodologies are constantly being developed and used by statisticians to track each aspect of the game and assess which factors are key when it comes to winning games. The purpose of this research is to identify which variables mostly affect the number of wins each team obtains throughout the NBA Regular Season. Data has been obtained from the NBA official website. The information collected represents data from the 2020-2021 season. In order to perform the analysis, I have run a Regression Model that illustrates how close the chosen variables are from depicting real life results. In addition, flaws of the model have also been considered and discussed throughout the paper."
   ]
  },
  {
   "cell_type": "code",
   "execution_count": null,
   "id": "07fda6bc",
   "metadata": {},
   "outputs": [],
   "source": []
  }
 ],
 "metadata": {
  "kernelspec": {
   "display_name": "Python 3",
   "language": "python",
   "name": "python3"
  },
  "language_info": {
   "codemirror_mode": {
    "name": "ipython",
    "version": 3
   },
   "file_extension": ".py",
   "mimetype": "text/x-python",
   "name": "python",
   "nbconvert_exporter": "python",
   "pygments_lexer": "ipython3",
   "version": "3.8.8"
  }
 },
 "nbformat": 4,
 "nbformat_minor": 5
}
