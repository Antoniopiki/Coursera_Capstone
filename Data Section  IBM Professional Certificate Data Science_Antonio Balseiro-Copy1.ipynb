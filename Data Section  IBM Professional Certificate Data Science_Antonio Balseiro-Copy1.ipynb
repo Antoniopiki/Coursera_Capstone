{
 "cells": [
  {
   "cell_type": "markdown",
   "id": "5863fe45",
   "metadata": {},
   "source": [
    "# **Data Section**"
   ]
  },
  {
   "cell_type": "markdown",
   "id": "3d4ce388",
   "metadata": {},
   "source": [
    "For the project Predicting NBA results based on Common Basketball Statistics, I have extracted data from the NBA official website. Common Statistics from every single player in the League has been retrieved, such as points scored, turnovers, rebounds,etc. An explanation of each of them will be presented in the project. Throughout the paper, the original Datafreame has been modified to adapt the data to the paper requisites. Also, new information has been added to add value to the already existing used Dataframe. "
   ]
  },
  {
   "cell_type": "code",
   "execution_count": null,
   "id": "f2051857",
   "metadata": {},
   "outputs": [],
   "source": []
  }
 ],
 "metadata": {
  "kernelspec": {
   "display_name": "Python 3",
   "language": "python",
   "name": "python3"
  },
  "language_info": {
   "codemirror_mode": {
    "name": "ipython",
    "version": 3
   },
   "file_extension": ".py",
   "mimetype": "text/x-python",
   "name": "python",
   "nbconvert_exporter": "python",
   "pygments_lexer": "ipython3",
   "version": "3.8.8"
  }
 },
 "nbformat": 4,
 "nbformat_minor": 5
}
